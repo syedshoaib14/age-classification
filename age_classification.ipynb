{
  "nbformat": 4,
  "nbformat_minor": 0,
  "metadata": {
    "colab": {
      "provenance": [],
      "gpuType": "T4",
      "include_colab_link": true
    },
    "kernelspec": {
      "name": "python3",
      "display_name": "Python 3"
    },
    "language_info": {
      "name": "python"
    },
    "accelerator": "GPU"
  },
  "cells": [
    {
      "cell_type": "markdown",
      "metadata": {
        "id": "view-in-github",
        "colab_type": "text"
      },
      "source": [
        "<a href=\"https://colab.research.google.com/github/syedshoaib14/age-classification/blob/main/age_classification.ipynb\" target=\"_parent\"><img src=\"https://colab.research.google.com/assets/colab-badge.svg\" alt=\"Open In Colab\"/></a>"
      ]
    },
    {
      "cell_type": "code",
      "execution_count": null,
      "metadata": {
        "colab": {
          "base_uri": "https://localhost:8080/"
        },
        "id": "QsFiwKXb7Wib",
        "outputId": "181b84b4-eeb2-48a0-8f4f-f192b2eb8bdc"
      },
      "outputs": [
        {
          "output_type": "stream",
          "name": "stdout",
          "text": [
            "Downloading...\n",
            "From: https://drive.google.com/uc?id=1WDDmHkQjHpFQfKSr0mZ1gWG2_UfRdsaN\n",
            "To: /content/Segmented_datasets.zip\n",
            "100% 6.29M/6.29M [00:00<00:00, 25.1MB/s]\n"
          ]
        }
      ],
      "source": [
        "!gdown -q 1WDDmHkQjHpFQfKSr0mZ1gWG2_UfRdsaN\n",
        "!unzip -q Segmented_datasets.zip\n",
        "!rm -rf Segmented_datasets.zip"
      ]
    },
    {
      "cell_type": "code",
      "source": [
        "import torch\n",
        "from torch import nn\n",
        "from torch.utils.data import DataLoader, dataset\n",
        "import os\n",
        "import torch.optim as optim\n",
        "import matplotlib.pyplot as plt\n",
        "from torchvision import transforms, models\n",
        "from PIL import Image\n",
        "import numpy as np\n",
        "from tqdm import tqdm"
      ],
      "metadata": {
        "id": "4a8oH0Ar7tQu"
      },
      "execution_count": null,
      "outputs": []
    },
    {
      "cell_type": "code",
      "source": [
        "transform = transforms.Compose([\n",
        "        transforms.Resize((64, 64)),\n",
        "        transforms.ColorJitter(),\n",
        "        transforms.ToTensor(),\n",
        "        transforms.Normalize([0.485, 0.456, 0.406],\n",
        "                             [0.229, 0.224, 0.225])  # Imagenet standards\n",
        "    ])"
      ],
      "metadata": {
        "id": "jvawlTpd7tOX"
      },
      "execution_count": null,
      "outputs": []
    },
    {
      "cell_type": "code",
      "source": [
        "root_dir = \"Segmented_datasets\"\n",
        "\n",
        "class SegmentedDataset(dataset.Dataset):\n",
        "    def __init__(self, root_dir, transform=None):\n",
        "\n",
        "\n",
        "        self.splits = {\n",
        "            0: [0, 20],\n",
        "            1: [21, 35],\n",
        "            2: [36, 100]\n",
        "        }\n",
        "        self.num_classes = len(list(self.splits.keys()))\n",
        "        self.root_dir = root_dir\n",
        "        self.transform = transform\n",
        "        self.data = []\n",
        "        self.labels = []\n",
        "        for individuals in os.listdir(root_dir):\n",
        "            for file in os.listdir(os.path.join(root_dir, individuals)):\n",
        "                self.data.append(Image.open(os.path.join(root_dir, individuals, file)))\n",
        "                # import pdb; pdb.set_trace()\n",
        "                self.labels.append(int(file.split(\".jpeg\")[0][:-1]) if file.split(\".jpeg\")[0][-1].isalpha() else int(file.split(\".jpeg\")[0]))\n",
        "\n",
        "    def __len__(self):\n",
        "        return len(self.data)\n",
        "\n",
        "    def split_to_classes(self, label):\n",
        "\n",
        "        for key, value in self.splits.items():\n",
        "            if value[0] <= label <= value[1]:\n",
        "                return key\n",
        "\n",
        "    def __getitem__(self, idx):\n",
        "        image = self.data[idx]\n",
        "        label = self.labels[idx]\n",
        "\n",
        "        # image = Image.fromarray(image)\n",
        "        if image.mode != \"RGB\":               # Convert grayscale to RGB\n",
        "            image = image.convert(\"RGB\")      # Back to PIL\n",
        "        if self.transform:\n",
        "            return self.transform(image), self.split_to_classes(label)\n",
        "        return image, label\n"
      ],
      "metadata": {
        "id": "inWt14MT7tLx"
      },
      "execution_count": null,
      "outputs": []
    },
    {
      "cell_type": "code",
      "source": [
        "ds = SegmentedDataset(root_dir, transform)\n",
        "dl = DataLoader(ds, batch_size=1, shuffle=True)"
      ],
      "metadata": {
        "id": "ufnuJcS87tHE"
      },
      "execution_count": null,
      "outputs": []
    },
    {
      "cell_type": "code",
      "source": [
        "images, labels = next(iter(dl))\n",
        "plt.imshow(images[0].permute(1, 2, 0)/2 + 0.5)\n",
        "plt.title(\"age range: \" + str(ds.splits[int(labels[0])]))\n",
        "plt.axis(\"off\")\n",
        "plt.show()"
      ],
      "metadata": {
        "colab": {
          "base_uri": "https://localhost:8080/",
          "height": 465
        },
        "id": "FOOgGF0u7tEP",
        "outputId": "97004c79-8a63-434b-e14f-f0532277963e"
      },
      "execution_count": null,
      "outputs": [
        {
          "output_type": "stream",
          "name": "stderr",
          "text": [
            "WARNING:matplotlib.image:Clipping input data to the valid range for imshow with RGB data ([0..1] for floats or [0..255] for integers). Got range [-0.46476585..1.1141177].\n"
          ]
        },
        {
          "output_type": "display_data",
          "data": {
            "text/plain": [
              "<Figure size 640x480 with 1 Axes>"
            ],
            "image/png": "[encoded data removed]"
          },
          "metadata": {}
        }
      ]
    },
    {
      "cell_type": "code",
      "source": [
        "vgg_model = models.vgg16(pretrained=True)\n",
        "vgg_model.classifier[6] = nn.Linear(4096, ds.num_classes)  # 3 classes changed\n",
        "\n",
        "device = torch.device(\"cuda\" if torch.cuda.is_available() else \"cpu\")\n",
        "vgg_model = vgg_model.to(device)"
      ],
      "metadata": {
        "colab": {
          "base_uri": "https://localhost:8080/"
        },
        "id": "0oZymW8W7_3F",
        "outputId": "871cd8f8-cac5-4052-f672-75a2da396034"
      },
      "execution_count": null,
      "outputs": [
        {
          "output_type": "stream",
          "name": "stderr",
          "text": [
            "/usr/local/lib/python3.11/dist-packages/torchvision/models/_utils.py:208: UserWarning: The parameter 'pretrained' is deprecated since 0.13 and may be removed in the future, please use 'weights' instead.\n",
            "  warnings.warn(\n",
            "/usr/local/lib/python3.11/dist-packages/torchvision/models/_utils.py:223: UserWarning: Arguments other than a weight enum or `None` for 'weights' are deprecated since 0.13 and may be removed in the future. The current behavior is equivalent to passing `weights=VGG16_Weights.IMAGENET1K_V1`. You can also use `weights=VGG16_Weights.DEFAULT` to get the most up-to-date weights.\n",
            "  warnings.warn(msg)\n",
            "Downloading: \"https://download.pytorch.org/models/vgg16-397923af.pth\" to /root/.cache/torch/hub/checkpoints/vgg16-397923af.pth\n",
            "100%|██████████| 528M/528M [00:03<00:00, 141MB/s]\n"
          ]
        }
      ]
    },
    {
      "cell_type": "code",
      "source": [
        "criterion = nn.CrossEntropyLoss()\n",
        "optimizer = optim.Adam(vgg_model.parameters(), lr=0.0001)"
      ],
      "metadata": {
        "id": "HdgPIE9P7_0w"
      },
      "execution_count": null,
      "outputs": []
    },
    {
      "cell_type": "code",
      "source": [
        "train_loader = DataLoader(ds, batch_size=10, shuffle=True)\n",
        "test_loader = DataLoader(ds, batch_size=10, shuffle=True)"
      ],
      "metadata": {
        "id": "mwPKhTeI7_yK"
      },
      "execution_count": null,
      "outputs": []
    },
    {
      "cell_type": "code",
      "source": [
        "num_epochs = 5  # Adjust as needed\n",
        "\n",
        "for epoch in tqdm(range(num_epochs)):\n",
        "    vgg_model.train()\n",
        "    running_loss = 0.0\n",
        "\n",
        "    for images, labels in train_loader:\n",
        "        images, labels = images.to(device), labels.to(device)\n",
        "\n",
        "        optimizer.zero_grad()\n",
        "        outputs = vgg_model(images)\n",
        "        loss = criterion(outputs, labels)\n",
        "        loss.backward()\n",
        "        optimizer.step()\n",
        "\n",
        "        running_loss += loss.item()\n",
        "\n",
        "    with torch.no_grad():\n",
        "        total = 0\n",
        "        correct = 0\n",
        "        for images, labels in test_loader:\n",
        "            images, labels = images.to(device), labels.to(device)\n",
        "            pred = vgg_model(images)\n",
        "            correct += (pred.argmax(dim=1) == labels).sum().item()\n",
        "            total += labels.size(0)\n",
        "        accuracy = correct / total * 100\n",
        "        print(f\"\\nAccuracy: {accuracy:.2f}%\")\n",
        "\n",
        "    print(f\"Epoch [{epoch+1}/{num_epochs}], Loss: {running_loss/len(train_loader):.4f}\")\n",
        "\n",
        "print(\"Training complete!\")"
      ],
      "metadata": {
        "colab": {
          "base_uri": "https://localhost:8080/"
        },
        "id": "adYGuXbx7_vk",
        "outputId": "8a63ec23-a20f-46c2-872c-9a963f1994c4"
      },
      "execution_count": null,
      "outputs": [
        {
          "output_type": "stream",
          "name": "stderr",
          "text": [
            " 20%|██        | 1/5 [00:03<00:14,  3.52s/it]"
          ]
        },
        {
          "output_type": "stream",
          "name": "stdout",
          "text": [
            "Accuracy: 58.51%\n",
            "Epoch [1/5], Loss: 1.1783\n"
          ]
        },
        {
          "output_type": "stream",
          "name": "stderr",
          "text": [
            "\r 40%|████      | 2/5 [00:05<00:07,  2.59s/it]"
          ]
        },
        {
          "output_type": "stream",
          "name": "stdout",
          "text": [
            "Accuracy: 68.09%\n",
            "Epoch [2/5], Loss: 0.9546\n"
          ]
        },
        {
          "output_type": "stream",
          "name": "stderr",
          "text": [
            "\r 60%|██████    | 3/5 [00:07<00:04,  2.30s/it]"
          ]
        },
        {
          "output_type": "stream",
          "name": "stdout",
          "text": [
            "Accuracy: 73.94%\n",
            "Epoch [3/5], Loss: 0.6569\n"
          ]
        },
        {
          "output_type": "stream",
          "name": "stderr",
          "text": [
            "\r 80%|████████  | 4/5 [00:09<00:02,  2.26s/it]"
          ]
        },
        {
          "output_type": "stream",
          "name": "stdout",
          "text": [
            "Accuracy: 90.43%\n",
            "Epoch [4/5], Loss: 0.5687\n"
          ]
        },
        {
          "output_type": "stream",
          "name": "stderr",
          "text": [
            "100%|██████████| 5/5 [00:11<00:00,  2.31s/it]"
          ]
        },
        {
          "output_type": "stream",
          "name": "stdout",
          "text": [
            "Accuracy: 94.68%\n",
            "Epoch [5/5], Loss: 0.3194\n",
            "Training complete!\n"
          ]
        },
        {
          "output_type": "stream",
          "name": "stderr",
          "text": [
            "\n"
          ]
        }
      ]
    }
  ]
}